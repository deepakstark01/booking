{
 "cells": [
  {
   "cell_type": "code",
   "execution_count": 1,
   "id": "86929141-4f4e-4042-a923-a72b7d8e1fdc",
   "metadata": {},
   "outputs": [],
   "source": [
    "from selenium import webdriver\n",
    "from selenium.webdriver.common.keys import Keys\n",
    "from selenium.webdriver.common.by import By\n",
    "from selenium.webdriver.support.ui import WebDriverWait\n",
    "from selenium.webdriver.support import expected_conditions as EC\n",
    "from selenium.webdriver.chrome.options import Options\n",
    "from selenium.webdriver.chrome.service import Service\n",
    "\n"
   ]
  },
  {
   "cell_type": "code",
   "execution_count": 16,
   "id": "00df8eb5-07d7-48e5-90ab-e1b10fedc372",
   "metadata": {},
   "outputs": [
    {
     "ename": "SessionNotCreatedException",
     "evalue": "Message: session not created: Chrome failed to start: exited normally.\n  (session not created: DevToolsActivePort file doesn't exist)\n  (The process started from chrome location C:\\Program Files\\Google\\Chrome\\Application\\chrome.exe is no longer running, so ChromeDriver is assuming that Chrome has crashed.)\nStacktrace:\n\tGetHandleVerifier [0x00007FF6FDB382B2+55298]\n\t(No symbol) [0x00007FF6FDAA5E02]\n\t(No symbol) [0x00007FF6FD9605AB]\n\t(No symbol) [0x00007FF6FD98DCD8]\n\t(No symbol) [0x00007FF6FD98B30E]\n\t(No symbol) [0x00007FF6FD9CA198]\n\t(No symbol) [0x00007FF6FD9C9CB0]\n\t(No symbol) [0x00007FF6FD9C1E83]\n\t(No symbol) [0x00007FF6FD99670A]\n\t(No symbol) [0x00007FF6FD997964]\n\tGetHandleVerifier [0x00007FF6FDEB0AAB+3694587]\n\tGetHandleVerifier [0x00007FF6FDF0728E+4048862]\n\tGetHandleVerifier [0x00007FF6FDEFF173+4015811]\n\tGetHandleVerifier [0x00007FF6FDBD47D6+695590]\n\t(No symbol) [0x00007FF6FDAB0CE8]\n\t(No symbol) [0x00007FF6FDAACF34]\n\t(No symbol) [0x00007FF6FDAAD062]\n\t(No symbol) [0x00007FF6FDA9D3A3]\n\tBaseThreadInitThunk [0x00007FFD5B187344+20]\n\tRtlUserThreadStart [0x00007FFD5BC826B1+33]\n",
     "output_type": "error",
     "traceback": [
      "\u001b[1;31m---------------------------------------------------------------------------\u001b[0m",
      "\u001b[1;31mSessionNotCreatedException\u001b[0m                Traceback (most recent call last)",
      "\u001b[1;32mc:\\booking\\booking\\Untitled.ipynb Cell 2\u001b[0m line \u001b[0;36m5\n\u001b[0;32m      <a href='vscode-notebook-cell:/c%3A/booking/booking/Untitled.ipynb#W1sZmlsZQ%3D%3D?line=2'>3</a>\u001b[0m chrome_options\u001b[39m.\u001b[39madd_argument(\u001b[39mr\u001b[39m\u001b[39m'\u001b[39m\u001b[39m--user-data-dir=C:\u001b[39m\u001b[39m\\\\\u001b[39;00m\u001b[39mUsers\u001b[39m\u001b[39m\\\\\u001b[39;00m\u001b[39mDarakhsha Rayen\u001b[39m\u001b[39m\\\\\u001b[39;00m\u001b[39mAppData\u001b[39m\u001b[39m\\\\\u001b[39;00m\u001b[39mLocal\u001b[39m\u001b[39m\\\\\u001b[39;00m\u001b[39mGoogle\u001b[39m\u001b[39m\\\\\u001b[39;00m\u001b[39mChrome\u001b[39m\u001b[39m\\\\\u001b[39;00m\u001b[39mUser Data\u001b[39m\u001b[39m'\u001b[39m)\n\u001b[0;32m      <a href='vscode-notebook-cell:/c%3A/booking/booking/Untitled.ipynb#W1sZmlsZQ%3D%3D?line=3'>4</a>\u001b[0m \u001b[39m# service = Service(executable_path='C:\\booking\\booking\\chromedriver.exe')\u001b[39;00m\n\u001b[1;32m----> <a href='vscode-notebook-cell:/c%3A/booking/booking/Untitled.ipynb#W1sZmlsZQ%3D%3D?line=4'>5</a>\u001b[0m driver \u001b[39m=\u001b[39m webdriver\u001b[39m.\u001b[39;49mChrome(options\u001b[39m=\u001b[39;49mchrome_options)\n",
      "File \u001b[1;32mc:\\Python311\\Lib\\site-packages\\selenium\\webdriver\\chrome\\webdriver.py:45\u001b[0m, in \u001b[0;36mWebDriver.__init__\u001b[1;34m(self, options, service, keep_alive)\u001b[0m\n\u001b[0;32m     42\u001b[0m service \u001b[39m=\u001b[39m service \u001b[39mif\u001b[39;00m service \u001b[39melse\u001b[39;00m Service()\n\u001b[0;32m     43\u001b[0m options \u001b[39m=\u001b[39m options \u001b[39mif\u001b[39;00m options \u001b[39melse\u001b[39;00m Options()\n\u001b[1;32m---> 45\u001b[0m \u001b[39msuper\u001b[39;49m()\u001b[39m.\u001b[39;49m\u001b[39m__init__\u001b[39;49m(\n\u001b[0;32m     46\u001b[0m     DesiredCapabilities\u001b[39m.\u001b[39;49mCHROME[\u001b[39m\"\u001b[39;49m\u001b[39mbrowserName\u001b[39;49m\u001b[39m\"\u001b[39;49m],\n\u001b[0;32m     47\u001b[0m     \u001b[39m\"\u001b[39;49m\u001b[39mgoog\u001b[39;49m\u001b[39m\"\u001b[39;49m,\n\u001b[0;32m     48\u001b[0m     options,\n\u001b[0;32m     49\u001b[0m     service,\n\u001b[0;32m     50\u001b[0m     keep_alive,\n\u001b[0;32m     51\u001b[0m )\n",
      "File \u001b[1;32mc:\\Python311\\Lib\\site-packages\\selenium\\webdriver\\chromium\\webdriver.py:56\u001b[0m, in \u001b[0;36mChromiumDriver.__init__\u001b[1;34m(self, browser_name, vendor_prefix, options, service, keep_alive)\u001b[0m\n\u001b[0;32m     53\u001b[0m \u001b[39mself\u001b[39m\u001b[39m.\u001b[39mservice\u001b[39m.\u001b[39mstart()\n\u001b[0;32m     55\u001b[0m \u001b[39mtry\u001b[39;00m:\n\u001b[1;32m---> 56\u001b[0m     \u001b[39msuper\u001b[39;49m()\u001b[39m.\u001b[39;49m\u001b[39m__init__\u001b[39;49m(\n\u001b[0;32m     57\u001b[0m         command_executor\u001b[39m=\u001b[39;49mChromiumRemoteConnection(\n\u001b[0;32m     58\u001b[0m             remote_server_addr\u001b[39m=\u001b[39;49m\u001b[39mself\u001b[39;49m\u001b[39m.\u001b[39;49mservice\u001b[39m.\u001b[39;49mservice_url,\n\u001b[0;32m     59\u001b[0m             browser_name\u001b[39m=\u001b[39;49mbrowser_name,\n\u001b[0;32m     60\u001b[0m             vendor_prefix\u001b[39m=\u001b[39;49mvendor_prefix,\n\u001b[0;32m     61\u001b[0m             keep_alive\u001b[39m=\u001b[39;49mkeep_alive,\n\u001b[0;32m     62\u001b[0m             ignore_proxy\u001b[39m=\u001b[39;49moptions\u001b[39m.\u001b[39;49m_ignore_local_proxy,\n\u001b[0;32m     63\u001b[0m         ),\n\u001b[0;32m     64\u001b[0m         options\u001b[39m=\u001b[39;49moptions,\n\u001b[0;32m     65\u001b[0m     )\n\u001b[0;32m     66\u001b[0m \u001b[39mexcept\u001b[39;00m \u001b[39mException\u001b[39;00m:\n\u001b[0;32m     67\u001b[0m     \u001b[39mself\u001b[39m\u001b[39m.\u001b[39mquit()\n",
      "File \u001b[1;32mc:\\Python311\\Lib\\site-packages\\selenium\\webdriver\\remote\\webdriver.py:205\u001b[0m, in \u001b[0;36mWebDriver.__init__\u001b[1;34m(self, command_executor, keep_alive, file_detector, options)\u001b[0m\n\u001b[0;32m    203\u001b[0m \u001b[39mself\u001b[39m\u001b[39m.\u001b[39m_authenticator_id \u001b[39m=\u001b[39m \u001b[39mNone\u001b[39;00m\n\u001b[0;32m    204\u001b[0m \u001b[39mself\u001b[39m\u001b[39m.\u001b[39mstart_client()\n\u001b[1;32m--> 205\u001b[0m \u001b[39mself\u001b[39;49m\u001b[39m.\u001b[39;49mstart_session(capabilities)\n",
      "File \u001b[1;32mc:\\Python311\\Lib\\site-packages\\selenium\\webdriver\\remote\\webdriver.py:289\u001b[0m, in \u001b[0;36mWebDriver.start_session\u001b[1;34m(self, capabilities)\u001b[0m\n\u001b[0;32m    282\u001b[0m \u001b[39m\u001b[39m\u001b[39m\"\"\"Creates a new session with the desired capabilities.\u001b[39;00m\n\u001b[0;32m    283\u001b[0m \n\u001b[0;32m    284\u001b[0m \u001b[39m:Args:\u001b[39;00m\n\u001b[0;32m    285\u001b[0m \u001b[39m - capabilities - a capabilities dict to start the session with.\u001b[39;00m\n\u001b[0;32m    286\u001b[0m \u001b[39m\"\"\"\u001b[39;00m\n\u001b[0;32m    288\u001b[0m caps \u001b[39m=\u001b[39m _create_caps(capabilities)\n\u001b[1;32m--> 289\u001b[0m response \u001b[39m=\u001b[39m \u001b[39mself\u001b[39;49m\u001b[39m.\u001b[39;49mexecute(Command\u001b[39m.\u001b[39;49mNEW_SESSION, caps)[\u001b[39m\"\u001b[39m\u001b[39mvalue\u001b[39m\u001b[39m\"\u001b[39m]\n\u001b[0;32m    290\u001b[0m \u001b[39mself\u001b[39m\u001b[39m.\u001b[39msession_id \u001b[39m=\u001b[39m response\u001b[39m.\u001b[39mget(\u001b[39m\"\u001b[39m\u001b[39msessionId\u001b[39m\u001b[39m\"\u001b[39m)\n\u001b[0;32m    291\u001b[0m \u001b[39mself\u001b[39m\u001b[39m.\u001b[39mcaps \u001b[39m=\u001b[39m response\u001b[39m.\u001b[39mget(\u001b[39m\"\u001b[39m\u001b[39mcapabilities\u001b[39m\u001b[39m\"\u001b[39m)\n",
      "File \u001b[1;32mc:\\Python311\\Lib\\site-packages\\selenium\\webdriver\\remote\\webdriver.py:344\u001b[0m, in \u001b[0;36mWebDriver.execute\u001b[1;34m(self, driver_command, params)\u001b[0m\n\u001b[0;32m    342\u001b[0m response \u001b[39m=\u001b[39m \u001b[39mself\u001b[39m\u001b[39m.\u001b[39mcommand_executor\u001b[39m.\u001b[39mexecute(driver_command, params)\n\u001b[0;32m    343\u001b[0m \u001b[39mif\u001b[39;00m response:\n\u001b[1;32m--> 344\u001b[0m     \u001b[39mself\u001b[39;49m\u001b[39m.\u001b[39;49merror_handler\u001b[39m.\u001b[39;49mcheck_response(response)\n\u001b[0;32m    345\u001b[0m     response[\u001b[39m\"\u001b[39m\u001b[39mvalue\u001b[39m\u001b[39m\"\u001b[39m] \u001b[39m=\u001b[39m \u001b[39mself\u001b[39m\u001b[39m.\u001b[39m_unwrap_value(response\u001b[39m.\u001b[39mget(\u001b[39m\"\u001b[39m\u001b[39mvalue\u001b[39m\u001b[39m\"\u001b[39m, \u001b[39mNone\u001b[39;00m))\n\u001b[0;32m    346\u001b[0m     \u001b[39mreturn\u001b[39;00m response\n",
      "File \u001b[1;32mc:\\Python311\\Lib\\site-packages\\selenium\\webdriver\\remote\\errorhandler.py:229\u001b[0m, in \u001b[0;36mErrorHandler.check_response\u001b[1;34m(self, response)\u001b[0m\n\u001b[0;32m    227\u001b[0m         alert_text \u001b[39m=\u001b[39m value[\u001b[39m\"\u001b[39m\u001b[39malert\u001b[39m\u001b[39m\"\u001b[39m]\u001b[39m.\u001b[39mget(\u001b[39m\"\u001b[39m\u001b[39mtext\u001b[39m\u001b[39m\"\u001b[39m)\n\u001b[0;32m    228\u001b[0m     \u001b[39mraise\u001b[39;00m exception_class(message, screen, stacktrace, alert_text)  \u001b[39m# type: ignore[call-arg]  # mypy is not smart enough here\u001b[39;00m\n\u001b[1;32m--> 229\u001b[0m \u001b[39mraise\u001b[39;00m exception_class(message, screen, stacktrace)\n",
      "\u001b[1;31mSessionNotCreatedException\u001b[0m: Message: session not created: Chrome failed to start: exited normally.\n  (session not created: DevToolsActivePort file doesn't exist)\n  (The process started from chrome location C:\\Program Files\\Google\\Chrome\\Application\\chrome.exe is no longer running, so ChromeDriver is assuming that Chrome has crashed.)\nStacktrace:\n\tGetHandleVerifier [0x00007FF6FDB382B2+55298]\n\t(No symbol) [0x00007FF6FDAA5E02]\n\t(No symbol) [0x00007FF6FD9605AB]\n\t(No symbol) [0x00007FF6FD98DCD8]\n\t(No symbol) [0x00007FF6FD98B30E]\n\t(No symbol) [0x00007FF6FD9CA198]\n\t(No symbol) [0x00007FF6FD9C9CB0]\n\t(No symbol) [0x00007FF6FD9C1E83]\n\t(No symbol) [0x00007FF6FD99670A]\n\t(No symbol) [0x00007FF6FD997964]\n\tGetHandleVerifier [0x00007FF6FDEB0AAB+3694587]\n\tGetHandleVerifier [0x00007FF6FDF0728E+4048862]\n\tGetHandleVerifier [0x00007FF6FDEFF173+4015811]\n\tGetHandleVerifier [0x00007FF6FDBD47D6+695590]\n\t(No symbol) [0x00007FF6FDAB0CE8]\n\t(No symbol) [0x00007FF6FDAACF34]\n\t(No symbol) [0x00007FF6FDAAD062]\n\t(No symbol) [0x00007FF6FDA9D3A3]\n\tBaseThreadInitThunk [0x00007FFD5B187344+20]\n\tRtlUserThreadStart [0x00007FFD5BC826B1+33]\n"
     ]
    }
   ],
   "source": [
    "# user_name = \"\n",
    "chrome_options = webdriver.ChromeOptions()\n",
    "chrome_options.add_argument(r'--user-data-dir=C:\\\\Users\\\\Darakhsha Rayen\\\\AppData\\\\Local\\\\Google\\\\Chrome\\\\User Data')\n",
    "# service = Service(executable_path='C:\\booking\\booking\\chromedriver.exe')\n",
    "driver = webdriver.Chrome(options=chrome_options)"
   ]
  },
  {
   "cell_type": "code",
   "execution_count": null,
   "id": "7326b71f-7590-484b-bf6d-b04f9517fa19",
   "metadata": {},
   "outputs": [],
   "source": [
    "# driver.maximize_window()\n",
    "driver.quit()"
   ]
  },
  {
   "cell_type": "code",
   "execution_count": null,
   "id": "073d271e-aa98-439e-be35-743466bd4319",
   "metadata": {},
   "outputs": [],
   "source": [
    "import random\n",
    "import time\n",
    "def random_delay(min_delay, max_delay):\n",
    "    delay = random.uniform(min_delay, max_delay)\n",
    "    time.sleep(delay)"
   ]
  },
  {
   "cell_type": "code",
   "execution_count": null,
   "id": "0862a187-f45d-4314-a806-0667f3e1a850",
   "metadata": {},
   "outputs": [],
   "source": [
    "driver.get(\"https://www.bezkolejki.eu/luwlodz\")"
   ]
  },
  {
   "cell_type": "code",
   "execution_count": null,
   "id": "f7a21143-093e-4f84-8c13-2b24fb8f612c",
   "metadata": {},
   "outputs": [],
   "source": [
    "appoinmentLables = \"//div[@role='tabpanel'][@id='Operacja2']/div[@class='row']\"\n",
    "Alables = driver.find_elements(By.XPATH, appoinmentLables)"
   ]
  },
  {
   "cell_type": "code",
   "execution_count": null,
   "id": "37d20d32-c9ac-4dc4-a81c-40fe710938a9",
   "metadata": {},
   "outputs": [
    {
     "ename": "ElementClickInterceptedException",
     "evalue": "Message: element click intercepted: Element <button data-v-5e7fd056=\"\" type=\"button\" class=\"btn footer-btn btn-secondary btn-lg btn-block\" style=\"background-color: rgb(224, 204, 63); color: rgb(255, 255, 255);\">...</button> is not clickable at point (1311, 683). Other element would receive the click: <div data-v-7db6fd04=\"\" class=\"row text-center mt-1 pb-2 pt-2\">...</div>\n  (Session info: chrome=119.0.6045.160)\nStacktrace:\n\tGetHandleVerifier [0x00007FF6C5D582B2+55298]\n\t(No symbol) [0x00007FF6C5CC5E02]\n\t(No symbol) [0x00007FF6C5B805AB]\n\t(No symbol) [0x00007FF6C5BC7A77]\n\t(No symbol) [0x00007FF6C5BC5E39]\n\t(No symbol) [0x00007FF6C5BC3C08]\n\t(No symbol) [0x00007FF6C5BC2C8A]\n\t(No symbol) [0x00007FF6C5BB87BF]\n\t(No symbol) [0x00007FF6C5BE20AA]\n\t(No symbol) [0x00007FF6C5BB80CF]\n\t(No symbol) [0x00007FF6C5BE22C0]\n\t(No symbol) [0x00007FF6C5BFAAA4]\n\t(No symbol) [0x00007FF6C5BE1E83]\n\t(No symbol) [0x00007FF6C5BB670A]\n\t(No symbol) [0x00007FF6C5BB7964]\n\tGetHandleVerifier [0x00007FF6C60D0AAB+3694587]\n\tGetHandleVerifier [0x00007FF6C612728E+4048862]\n\tGetHandleVerifier [0x00007FF6C611F173+4015811]\n\tGetHandleVerifier [0x00007FF6C5DF47D6+695590]\n\t(No symbol) [0x00007FF6C5CD0CE8]\n\t(No symbol) [0x00007FF6C5CCCF34]\n\t(No symbol) [0x00007FF6C5CCD062]\n\t(No symbol) [0x00007FF6C5CBD3A3]\n\tBaseThreadInitThunk [0x00007FFB660026AD+29]\n\tRtlUserThreadStart [0x00007FFB6772A9F8+40]\n",
     "output_type": "error",
     "traceback": [
      "\u001b[1;31m---------------------------------------------------------------------------\u001b[0m",
      "\u001b[1;31mElementClickInterceptedException\u001b[0m          Traceback (most recent call last)",
      "Cell \u001b[1;32mIn[11], line 4\u001b[0m\n\u001b[0;32m      2\u001b[0m apponit\u001b[38;5;241m.\u001b[39mclick()\n\u001b[0;32m      3\u001b[0m random_delay(\u001b[38;5;241m3\u001b[39m, \u001b[38;5;241m5\u001b[39m)\n\u001b[1;32m----> 4\u001b[0m \u001b[43mdriver\u001b[49m\u001b[38;5;241;43m.\u001b[39;49m\u001b[43mfind_element\u001b[49m\u001b[43m(\u001b[49m\u001b[43mBy\u001b[49m\u001b[38;5;241;43m.\u001b[39;49m\u001b[43mXPATH\u001b[49m\u001b[43m,\u001b[49m\u001b[43m \u001b[49m\u001b[38;5;124;43m\"\u001b[39;49m\u001b[38;5;124;43m*//button[contains(text(), \u001b[39;49m\u001b[38;5;124;43m'\u001b[39;49m\u001b[38;5;124;43mDalej\u001b[39;49m\u001b[38;5;124;43m'\u001b[39;49m\u001b[38;5;124;43m)]\u001b[39;49m\u001b[38;5;124;43m\"\u001b[39;49m\u001b[43m)\u001b[49m\u001b[38;5;241;43m.\u001b[39;49m\u001b[43mclick\u001b[49m\u001b[43m(\u001b[49m\u001b[43m)\u001b[49m\n\u001b[0;32m      5\u001b[0m \u001b[38;5;28;01mtry\u001b[39;00m:\n\u001b[0;32m      6\u001b[0m     appoinment_not_present \u001b[38;5;241m=\u001b[39m driver\u001b[38;5;241m.\u001b[39mfind_element(By\u001b[38;5;241m.\u001b[39mXPATH, \u001b[38;5;124m\"\u001b[39m\u001b[38;5;124m*//h5[contains(text(), \u001b[39m\u001b[38;5;124m'\u001b[39m\u001b[38;5;124mBrak\u001b[39m\u001b[38;5;124m'\u001b[39m\u001b[38;5;124m)]\u001b[39m\u001b[38;5;124m\"\u001b[39m)\u001b[38;5;241m.\u001b[39mtext\n",
      "File \u001b[1;32mC:\\Python311\\Lib\\site-packages\\selenium\\webdriver\\remote\\webelement.py:93\u001b[0m, in \u001b[0;36mWebElement.click\u001b[1;34m(self)\u001b[0m\n\u001b[0;32m     91\u001b[0m \u001b[38;5;28;01mdef\u001b[39;00m \u001b[38;5;21mclick\u001b[39m(\u001b[38;5;28mself\u001b[39m) \u001b[38;5;241m-\u001b[39m\u001b[38;5;241m>\u001b[39m \u001b[38;5;28;01mNone\u001b[39;00m:\n\u001b[0;32m     92\u001b[0m \u001b[38;5;250m    \u001b[39m\u001b[38;5;124;03m\"\"\"Clicks the element.\"\"\"\u001b[39;00m\n\u001b[1;32m---> 93\u001b[0m     \u001b[38;5;28;43mself\u001b[39;49m\u001b[38;5;241;43m.\u001b[39;49m\u001b[43m_execute\u001b[49m\u001b[43m(\u001b[49m\u001b[43mCommand\u001b[49m\u001b[38;5;241;43m.\u001b[39;49m\u001b[43mCLICK_ELEMENT\u001b[49m\u001b[43m)\u001b[49m\n",
      "File \u001b[1;32mC:\\Python311\\Lib\\site-packages\\selenium\\webdriver\\remote\\webelement.py:394\u001b[0m, in \u001b[0;36mWebElement._execute\u001b[1;34m(self, command, params)\u001b[0m\n\u001b[0;32m    392\u001b[0m     params \u001b[38;5;241m=\u001b[39m {}\n\u001b[0;32m    393\u001b[0m params[\u001b[38;5;124m\"\u001b[39m\u001b[38;5;124mid\u001b[39m\u001b[38;5;124m\"\u001b[39m] \u001b[38;5;241m=\u001b[39m \u001b[38;5;28mself\u001b[39m\u001b[38;5;241m.\u001b[39m_id\n\u001b[1;32m--> 394\u001b[0m \u001b[38;5;28;01mreturn\u001b[39;00m \u001b[38;5;28;43mself\u001b[39;49m\u001b[38;5;241;43m.\u001b[39;49m\u001b[43m_parent\u001b[49m\u001b[38;5;241;43m.\u001b[39;49m\u001b[43mexecute\u001b[49m\u001b[43m(\u001b[49m\u001b[43mcommand\u001b[49m\u001b[43m,\u001b[49m\u001b[43m \u001b[49m\u001b[43mparams\u001b[49m\u001b[43m)\u001b[49m\n",
      "File \u001b[1;32mC:\\Python311\\Lib\\site-packages\\selenium\\webdriver\\remote\\webdriver.py:344\u001b[0m, in \u001b[0;36mWebDriver.execute\u001b[1;34m(self, driver_command, params)\u001b[0m\n\u001b[0;32m    342\u001b[0m response \u001b[38;5;241m=\u001b[39m \u001b[38;5;28mself\u001b[39m\u001b[38;5;241m.\u001b[39mcommand_executor\u001b[38;5;241m.\u001b[39mexecute(driver_command, params)\n\u001b[0;32m    343\u001b[0m \u001b[38;5;28;01mif\u001b[39;00m response:\n\u001b[1;32m--> 344\u001b[0m     \u001b[38;5;28;43mself\u001b[39;49m\u001b[38;5;241;43m.\u001b[39;49m\u001b[43merror_handler\u001b[49m\u001b[38;5;241;43m.\u001b[39;49m\u001b[43mcheck_response\u001b[49m\u001b[43m(\u001b[49m\u001b[43mresponse\u001b[49m\u001b[43m)\u001b[49m\n\u001b[0;32m    345\u001b[0m     response[\u001b[38;5;124m\"\u001b[39m\u001b[38;5;124mvalue\u001b[39m\u001b[38;5;124m\"\u001b[39m] \u001b[38;5;241m=\u001b[39m \u001b[38;5;28mself\u001b[39m\u001b[38;5;241m.\u001b[39m_unwrap_value(response\u001b[38;5;241m.\u001b[39mget(\u001b[38;5;124m\"\u001b[39m\u001b[38;5;124mvalue\u001b[39m\u001b[38;5;124m\"\u001b[39m, \u001b[38;5;28;01mNone\u001b[39;00m))\n\u001b[0;32m    346\u001b[0m     \u001b[38;5;28;01mreturn\u001b[39;00m response\n",
      "File \u001b[1;32mC:\\Python311\\Lib\\site-packages\\selenium\\webdriver\\remote\\errorhandler.py:229\u001b[0m, in \u001b[0;36mErrorHandler.check_response\u001b[1;34m(self, response)\u001b[0m\n\u001b[0;32m    227\u001b[0m         alert_text \u001b[38;5;241m=\u001b[39m value[\u001b[38;5;124m\"\u001b[39m\u001b[38;5;124malert\u001b[39m\u001b[38;5;124m\"\u001b[39m]\u001b[38;5;241m.\u001b[39mget(\u001b[38;5;124m\"\u001b[39m\u001b[38;5;124mtext\u001b[39m\u001b[38;5;124m\"\u001b[39m)\n\u001b[0;32m    228\u001b[0m     \u001b[38;5;28;01mraise\u001b[39;00m exception_class(message, screen, stacktrace, alert_text)  \u001b[38;5;66;03m# type: ignore[call-arg]  # mypy is not smart enough here\u001b[39;00m\n\u001b[1;32m--> 229\u001b[0m \u001b[38;5;28;01mraise\u001b[39;00m exception_class(message, screen, stacktrace)\n",
      "\u001b[1;31mElementClickInterceptedException\u001b[0m: Message: element click intercepted: Element <button data-v-5e7fd056=\"\" type=\"button\" class=\"btn footer-btn btn-secondary btn-lg btn-block\" style=\"background-color: rgb(224, 204, 63); color: rgb(255, 255, 255);\">...</button> is not clickable at point (1311, 683). Other element would receive the click: <div data-v-7db6fd04=\"\" class=\"row text-center mt-1 pb-2 pt-2\">...</div>\n  (Session info: chrome=119.0.6045.160)\nStacktrace:\n\tGetHandleVerifier [0x00007FF6C5D582B2+55298]\n\t(No symbol) [0x00007FF6C5CC5E02]\n\t(No symbol) [0x00007FF6C5B805AB]\n\t(No symbol) [0x00007FF6C5BC7A77]\n\t(No symbol) [0x00007FF6C5BC5E39]\n\t(No symbol) [0x00007FF6C5BC3C08]\n\t(No symbol) [0x00007FF6C5BC2C8A]\n\t(No symbol) [0x00007FF6C5BB87BF]\n\t(No symbol) [0x00007FF6C5BE20AA]\n\t(No symbol) [0x00007FF6C5BB80CF]\n\t(No symbol) [0x00007FF6C5BE22C0]\n\t(No symbol) [0x00007FF6C5BFAAA4]\n\t(No symbol) [0x00007FF6C5BE1E83]\n\t(No symbol) [0x00007FF6C5BB670A]\n\t(No symbol) [0x00007FF6C5BB7964]\n\tGetHandleVerifier [0x00007FF6C60D0AAB+3694587]\n\tGetHandleVerifier [0x00007FF6C612728E+4048862]\n\tGetHandleVerifier [0x00007FF6C611F173+4015811]\n\tGetHandleVerifier [0x00007FF6C5DF47D6+695590]\n\t(No symbol) [0x00007FF6C5CD0CE8]\n\t(No symbol) [0x00007FF6C5CCCF34]\n\t(No symbol) [0x00007FF6C5CCD062]\n\t(No symbol) [0x00007FF6C5CBD3A3]\n\tBaseThreadInitThunk [0x00007FFB660026AD+29]\n\tRtlUserThreadStart [0x00007FFB6772A9F8+40]\n"
     ]
    }
   ],
   "source": [
    "for apponit in Alables:\n",
    "    apponit.click()\n",
    "    random_delay(3, 5)\n",
    "    driver.find_element(By.XPATH, \"*//button[contains(text(), 'Dalej')]\").click()\n",
    "    try:\n",
    "        appoinment_not_present = driver.find_element(By.XPATH, \"*//h5[contains(text(), 'Brak')]\").text\n",
    "        print(appoinment_not_present)\n",
    "        driver.get(\"https://www.bezkolejki.eu/luwlodz\")\n",
    "    except:\n",
    "        print(\"Booking avaliable\")\n",
    "    "
   ]
  },
  {
   "cell_type": "code",
   "execution_count": null,
   "id": "538dcb86-638b-4a2d-84fe-58ab361cdfa5",
   "metadata": {},
   "outputs": [],
   "source": []
  },
  {
   "cell_type": "code",
   "execution_count": 17,
   "id": "fa7f1af1-7ec6-4606-853d-646e0ea6e39b",
   "metadata": {},
   "outputs": [],
   "source": [
    "from selenium import webdriver\n",
    "from selenium.webdriver.common.keys import Keys\n",
    "from selenium.webdriver.common.by import By\n",
    "from selenium.webdriver.support.ui import WebDriverWait\n",
    "from selenium.webdriver.support import expected_conditions as EC\n",
    "from selenium.webdriver.chrome.options import Options\n",
    "from selenium.webdriver.chrome.service import Service\n",
    "import random\n",
    "import time\n",
    "def random_delay(min_delay, max_delay):\n",
    "    delay = random.uniform(min_delay, max_delay)\n",
    "    time.sleep(delay)\n",
    "# user_name = \"\n",
    "chrome_options = webdriver.ChromeOptions()\n",
    "# chrome_options.add_argument(r'--user-data-dir=C:\\\\Users\\\\Darakhsha Rayen\\\\AppData\\\\Local\\\\Google\\\\Chrome\\\\User Data')\n",
    "chrome_options.add_argument(r'--incognito')\n",
    "# service = Service(executable_path='C:\\booking\\booking\\chromedriver.exe')\n",
    "driver = webdriver.Chrome(options=chrome_options)\n",
    "driver.maximize_window()\n"
   ]
  },
  {
   "cell_type": "code",
   "execution_count": 18,
   "id": "739b7913-8ddd-4e58-bbac-18ca648e0777",
   "metadata": {},
   "outputs": [
    {
     "name": "stdout",
     "output_type": "stream",
     "text": [
      "0\n",
      " Brak dostępnych rezerwacji w okresie od 01.12.2023 do 07.12.2023 \n",
      "No Booking Going back\n",
      "1\n",
      " Brak dostępnych rezerwacji w okresie od 01.12.2023 do 07.12.2023 \n",
      "No Booking Going back\n",
      "2\n",
      " Brak dostępnych rezerwacji w okresie od 01.12.2023 do 08.12.2023 \n",
      "No Booking Going back\n",
      "3\n",
      "Booking available\n"
     ]
    }
   ],
   "source": [
    "driver.get(\"https://www.bezkolejki.eu/luwlodz\")\n",
    "random_delay(2, 4)\n",
    "button_xpath = \"*//button[contains(text(), 'Dalej')]\"\n",
    "brak_xpath = \"*//h5[contains(text(), 'Brak')]\"\n",
    "appoinmentLables = \"//div[@role='tabpanel'][@id='Operacja2']/div[@class='row']\"\n",
    "Alables = driver.find_elements(By.XPATH, appoinmentLables)\n",
    "for appointment in range(0,10):\n",
    "    random_delay(2, 4)\n",
    "    Alables = driver.find_elements(By.XPATH, appoinmentLables)\n",
    "    print(appointment)\n",
    "    nextButton = WebDriverWait(driver, 10).until(EC.element_to_be_clickable((By.XPATH, button_xpath)))\n",
    "    driver.execute_script(\"arguments[0].scrollIntoView();\", nextButton)\n",
    "    driver.execute_script(\"arguments[0].scrollIntoView();\", Alables[appointment])\n",
    "    Alables[appointment].click()\n",
    "    WebDriverWait(driver, 10).until(EC.element_to_be_clickable((By.XPATH, button_xpath)))\n",
    "    # nextButton = driver.find_element(By.XPATH, button_xpath)\n",
    "    driver.execute_script(\"arguments[0].scrollIntoView();\", nextButton)\n",
    "    nextButton.click()\n",
    "    random_delay(2, 4)\n",
    "    try:\n",
    "        WebDriverWait(driver, 5).until(EC.presence_of_element_located((By.XPATH, brak_xpath)))\n",
    "        appoinment_not_present = driver.find_element(By.XPATH, brak_xpath).text\n",
    "        print(appoinment_not_present)\n",
    "        print(\"No Booking Going back\")\n",
    "        driver.find_element(By.XPATH, '*//a/div[@id=\"step-Operacja2\"]').click()\n",
    "    except:\n",
    "        print(\"Booking available\")\n",
    "        break"
   ]
  },
  {
   "cell_type": "code",
   "execution_count": 19,
   "id": "211ede1a-3cf6-46e5-b1e7-fc4226e9c782",
   "metadata": {},
   "outputs": [
    {
     "name": "stdout",
     "output_type": "stream",
     "text": [
      "4\n",
      "5\n",
      "6\n",
      "7\n",
      "Available slots are ['4', '5', '6', '7']\n"
     ]
    }
   ],
   "source": [
    "def get_all_dates():\n",
    "    datList = []\n",
    "    date_css_selector = \"span[role='button'].vc-day-content.vc-focusable:not(.is-disabled)\"\n",
    "    WebDriverWait(driver, 6).until(EC.presence_of_element_located((By.CSS_SELECTOR, date_css_selector)))\n",
    "    available_dates = driver.find_elements(By.CSS_SELECTOR, date_css_selector)\n",
    "    # print(len(available_dates))\n",
    "    for date in available_dates:\n",
    "        print(date.text)\n",
    "        datList.append(date.text)\n",
    "    return datList\n",
    "    # return [date.text for date in available_dates]\n",
    "try:\n",
    "    rightArrowXpath =  \"div[role='button'].vc-arrow.is-right:not(.is-disabled)\"\n",
    "    WebDriverWait(driver, 2).until(EC.presence_of_element_located((By.CSS_SELECTOR, rightArrowXpath)))\n",
    "    rightArrow = driver.find_element(By.CSS_SELECTOR, rightArrowXpath)\n",
    "    rightArrow.click()\n",
    "    random_delay(1, 3)\n",
    "    avalableSlots = get_all_dates() \n",
    "    print(f\"Available slots are {avalableSlots}\")\n",
    "    \n",
    "except:\n",
    "    print(\"avilable in current month\")\n",
    "    avalableSlots = get_all_dates()\n",
    "    print(f\"Available slots are {avalableSlots}\") \n"
   ]
  },
  {
   "cell_type": "code",
   "execution_count": 27,
   "metadata": {},
   "outputs": [],
   "source": [
    "for slot in avalableSlots:\n",
    "    driver.find_element(By.XPATH, f\"//span[@class='vc-day-content vc-focusable' and text()='{slot}']\").click()\n"
   ]
  },
  {
   "cell_type": "code",
   "execution_count": 20,
   "id": "d22b791a-7dcb-4787-a660-9da95d53a3d7",
   "metadata": {},
   "outputs": [],
   "source": [
    "driver.find_element(By.XPATH, f\"//span[@class='vc-day-content vc-focusable' and text()='{avalableSlots[0]}']\").click()"
   ]
  },
  {
   "cell_type": "code",
   "execution_count": 21,
   "metadata": {},
   "outputs": [
    {
     "name": "stdout",
     "output_type": "stream",
     "text": [
      "captcha solving.....\n",
      "captcha solving.....\n",
      "captcha solving.....\n",
      "captcha solving.....\n",
      "captcha solving.....\n",
      "captcha solving.....\n",
      "captcha solving.....\n",
      "captcha solving.....\n",
      "captcha solving.....\n",
      "captcha solving.....\n",
      "captcha solving.....\n",
      "captcha solving.....\n",
      "captcha solving.....\n",
      "captcha solving.....\n",
      "captcha solving.....\n",
      "captcha solving.....\n",
      "captcha solving.....\n",
      "captcha solving.....\n",
      "captcha solving.....\n",
      "captcha solving.....\n",
      "captcha solving.....\n",
      "captcha solving.....\n"
     ]
    }
   ],
   "source": [
    "selectOption = \"*//select\"\n",
    "WebDriverWait(driver, 10).until(EC.element_to_be_clickable((By.XPATH, selectOption))).click()\n",
    "# timeList = WebDriverWait(driver, 10).until(EC.element_to_be_clickable((By.XPATH, \"*//select//option\")))\n",
    "timeList =  WebDriverWait(driver, 10).until(EC.presence_of_all_elements_located((By.XPATH, \"*//select//option\")))\n",
    "\n",
    "timeList[random.randint(1, len(timeList)-1)].click()\n",
    "#  solve captcha\n",
    "\n",
    "capcthAsolve = \"//div[@class='captcha-solver-info' and contains(text(), 'Captcha solved!')]\"\n",
    "\n",
    "while True:\n",
    "    try:\n",
    "        WebDriverWait(driver, 10).until(EC.presence_of_element_located((By.XPATH, capcthAsolve)))\n",
    "        print(\"captcha solved\")\n",
    "        break\n",
    "    except:\n",
    "        print(\"captcha solving.....\")\n"
   ]
  },
  {
   "cell_type": "code",
   "execution_count": 16,
   "metadata": {},
   "outputs": [],
   "source": [
    "nextButton = WebDriverWait(driver, 10).until(EC.element_to_be_clickable((By.XPATH, button_xpath)))\n",
    "driver.execute_script(\"arguments[0].scrollIntoView();\", nextButton)\n",
    "nextButton.click()"
   ]
  },
  {
   "cell_type": "code",
   "execution_count": 49,
   "metadata": {},
   "outputs": [],
   "source": [
    "driver.find_element(By.XPATH, '*//a/div[@id=\"step-Operacja2\"]').click()\n"
   ]
  },
  {
   "cell_type": "code",
   "execution_count": 8,
   "id": "d287881c-b942-482f-b895-a68fa10ea190",
   "metadata": {},
   "outputs": [],
   "source": []
  },
  {
   "cell_type": "code",
   "execution_count": 6,
   "id": "a8874c78-6f9e-460f-8d6a-0e75f648b24b",
   "metadata": {},
   "outputs": [],
   "source": []
  },
  {
   "cell_type": "code",
   "execution_count": 11,
   "id": "d657761f-1ff1-4262-8da5-331ef79c7172",
   "metadata": {},
   "outputs": [
    {
     "name": "stdout",
     "output_type": "stream",
     "text": [
      "Solving Captcha\n",
      "Successfully solved the Captcha. The solve code is \n",
      " P1_eyJ0eXAiOiJKV1QiLCJhbGciOiJIUzI1NiJ9.hKdwYXNza2V5xQUNSyHL5a6ayjFlJGu_a5GtHApIUyY2m7RjiTKhdMXOTOnPUvtHnA0-mKa24OpscCVGQwI6XmSgaHscejF_btl_jo3YpzqrWT0RcbBvUrfwG6DpgJPwfqBHEwEBZNI_TGSHBCbkpSw4lhvtDAj_bd-oD-KxvCHinO-pAZo3UGpryWCsII-3nhvtNic-0MimS4b8S5uRU_cQVlmkGgxVeZ3nPLwxtEUD2P0OHMlr14vQr2YADtHyWSQcaMJO4k7xZRsveX67pJgrqq8307YCTjuoVSOgEdlJnrthGmlgN4crHyZHUGUTXWOW7sdhoE4yF6qeTa_x01tWyWH4p0E-4UQNA5-ZwNwikUZ08uykGY7uNxId7gVL90I2HK285LewmaFJTC8kTXW6AdEtN3BlgL8OfIG5PLJ-SjQ4G1FnNUDT8148JA-8ULrX3AGhks-6v7etv73zot9w0lXn0RLoddiOTmH7hvGbwgebsfKwAz2dpjk3FfNloUlxQgalPiNVuYEQcNoKGWARU5irfWRVgPvGzdb7D9TXaWHefbqk2Xx2w0deBCGa4Ft03cbLSPCGd6P3cQDXJCI-UYtIAem5_0c2lqv-NwTMyYBXPSllP6GqOD8pcHTvAuQ3061dT7l3fpDuU0C0JzH-DZ_ihQnK4YRRHuGBU3Uw6HTDa2MTTE6_50k5Bs0mv7IXCe8Q7JIZsR6BfvNa1KeHdrAQJ_ekdpQ1HPzouAiCHX-DiIddAqxjrH381MnIMnAfusQD3OPaFbB_ZvIUDU36g_8x37fIE6eECssAICaLn7VlxR5p1UM_s6NMR-NKSoEapA2DaVxm_Ny6EubXQP93chvmXUbDCLsPOMe778vUPqTEkerDhe-NZCL1iBhTJrrKojT1aL85TXCuC7KU6AwI9xzy-Maq60U0i60IhLS8PlgqOwbN7lqQskmkLJKM2EDneslhyPXZc45dID8WlP0DuaIxPYTmI-vTRfdPJD0chYrXHBRwdL9x9iPrWAsp6ohbdfuDTkMRkC4J_Yb6kaiqHGVmuS-dVCoiKkB2LDAOjSglYA6bc0LuB2YFcbCZA9hGWRHQAuMKIVxfRRAsU60YL_XX8Pqw-yptUzoVXWKhRbwGaDNVXccjsBPhnOdOuaOvW-47PQM0tHV2FveVYr6iD-2YcXROpkt4PiCgBeo8hivi4QmY18PEvQMfx8D8vAVlIOIN2MBDOATJH380AOlktyXr8N8UCMNeI2mj4zP8YyP1stux9JCOEngBv6RmsEt14OmrPqZXqyAZ_kyRd56V6b-IlG09vTY7fT3I_he_HIqeDG3HHmpexcmb740cKR4l1r_HeUTO4eMItfzi3FXPWpECmXoZMLU7bRZxGaKQlZf216wVamyAxMkQ3azh2hcqvSTTnOn44u2ILZp7HmNx595f3h9v1Tbsarl-iDqk9gLl4Mscx-bwqXVXG6ZaLpWCpagez88Cax8n61w22Qgxtr67LJPol0SQEWmEndDNBnPZmnSIa9zTjLyUaPAX5TLU0vQuqEoBu1F1uFzv9UimXUc8sWptADh2dTWpzJrPOTpJZ3uwSU4yS7xNJRA-99PcAPUhUAhSi8e5ClqqwmqhFMtK42-EC8BzfJqdo90nRa_5fCaNRjgK0St0cYjLtgty-uj0VsjTiqAW-kG_rNns0cHtX800mS5puK_ilktgJR7fZi8IO8Ww4iTk46VPSrV_k3Qu3Crro2V4cM5laIrpqHNoYXJkX2lkzg9y6m-icGQA.WIfE6l81LiA_xoPJj5oeq7e7_9WqSleJoQvG8FZqhRY\n"
     ]
    }
   ],
   "source": [
    "\n",
    "result = solvehCaptcha()\n",
    "print(\"Solving Captcha\")\n",
    "code = result['code']\n",
    "print(f\"Successfully solved the Captcha. The solve code is \\n {code}\")\n",
    "\n",
    "# Pause the execution so you can see the screen after submission before closing the driver"
   ]
  },
  {
   "cell_type": "code",
   "execution_count": 10,
   "id": "96a2f9b5-37a4-4b6d-8eb9-832609438522",
   "metadata": {},
   "outputs": [],
   "source": [
    "# iframeXpath = \"//div[@id='hcap-script']/iframe\"\n",
    "# # WebDriverWait(driver, 10).until(EC.presence_of_element_located((By.XPATH, iframeXpath)))\n",
    "# iframe = driver.find_element(By.XPATH, iframeXpath)\n",
    "# driver.switch_to.frame(iframe)\n",
    "# driver.switch_to.default_content()\n",
    "hcaptcha_response_element = driver.find_element(By.XPATH, \"//textarea[starts-with(@id, 'h-captcha-response-')]\")\n",
    "# hcaptcha_response_element = driver.find_element(By.ID, 'h-captcha-response')\n",
    "driver.execute_script(f'arguments[0].value = \"{code}\";', hcaptcha_response_element)\n",
    "# Submit the form\n",
    "# submit_btn = driver.find_element(By.CSS_SELECTOR, 'button[type=\"submit\"]')\n",
    "# submit_btn.click()\n"
   ]
  },
  {
   "cell_type": "code",
   "execution_count": 34,
   "metadata": {},
   "outputs": [],
   "source": [
    "driver.switch_to.default_content()"
   ]
  },
  {
   "cell_type": "code",
   "execution_count": 1,
   "metadata": {},
   "outputs": [
    {
     "name": "stdout",
     "output_type": "stream",
     "text": [
      "Weights file does not exist\n"
     ]
    }
   ],
   "source": [
    "from impulse import Solver"
   ]
  },
  {
   "cell_type": "code",
   "execution_count": 2,
   "id": "b7bd4cb3-b3cb-4f0c-8e50-72eaf2ef7cce",
   "metadata": {},
   "outputs": [
    {
     "name": "stdout",
     "output_type": "stream",
     "text": [
      "Weights file does not exist\n"
     ]
    }
   ],
   "source": [
    "\n",
    "driver.get(\"http://democaptcha.com/demo-form-eng/hcaptcha.html\")\n",
    "solver = Solver(driver)\n",
    "solver.run()"
   ]
  },
  {
   "cell_type": "code",
   "execution_count": 24,
   "id": "15e8cf60-a490-4e22-929e-74c3d8cd67f1",
   "metadata": {},
   "outputs": [],
   "source": [
    "if result:\n",
    "    code = result['code']\n",
    "    driver.execute_script(\"document.querySelector(\" + \"'\" + '[name=\"h-captcha-response\"]' + \"'\" + \").innerHTML = \" + \"'\" + code + \"'\")\n",
    "    # browser.find_element(\n",
    "    #     By.CSS_SELECTOR, \"#root > div > main > div > section > form > button._2iYm2u0v9LWjjsuiyfKsv4._1z3RdCK9ek3YQYwshGZNjf._3zBeuZ3zVV-s2YdppESngy._28oc7jlCOdc1KAtktSUZvQ\").click()"
   ]
  },
  {
   "cell_type": "code",
   "execution_count": null,
   "id": "eb575eaa-6c53-44fe-9b14-320cbc836fb5",
   "metadata": {},
   "outputs": [],
   "source": []
  }
 ],
 "metadata": {
  "kernelspec": {
   "display_name": "Python 3 (ipykernel)",
   "language": "python",
   "name": "python3"
  },
  "language_info": {
   "codemirror_mode": {
    "name": "ipython",
    "version": 3
   },
   "file_extension": ".py",
   "mimetype": "text/x-python",
   "name": "python",
   "nbconvert_exporter": "python",
   "pygments_lexer": "ipython3",
   "version": "3.11.6"
  }
 },
 "nbformat": 4,
 "nbformat_minor": 5
}
