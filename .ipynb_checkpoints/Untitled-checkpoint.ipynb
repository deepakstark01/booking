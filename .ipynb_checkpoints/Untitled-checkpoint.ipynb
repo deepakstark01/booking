{
 "cells": [
  {
   "cell_type": "code",
   "execution_count": 9,
   "id": "86929141-4f4e-4042-a923-a72b7d8e1fdc",
   "metadata": {},
   "outputs": [],
   "source": [
    "from selenium import webdriver\n",
    "from selenium.webdriver.common.keys import Keys\n",
    "from selenium.webdriver.common.by import By\n",
    "from selenium.webdriver.support.ui import WebDriverWait\n",
    "from selenium.webdriver.support import expected_conditions as EC\n",
    "from selenium.webdriver.chrome.options import Options\n",
    "from selenium.webdriver.chrome.service import Service\n",
    "\n"
   ]
  },
  {
   "cell_type": "code",
   "execution_count": 11,
   "id": "00df8eb5-07d7-48e5-90ab-e1b10fedc372",
   "metadata": {},
   "outputs": [],
   "source": [
    "chrome_options = webdriver.ChromeOptions()\n",
    "chrome_options.add_argument(r'--user-data-dir=C:\\Users\\Deepak\\AppData\\Local\\Google\\Chrome\\User Data')\n",
    "# service = Service(executable_path='./chromedriver.exe')\n",
    "driver = webdriver.Chrome(options=chrome_options)"
   ]
  },
  {
   "cell_type": "code",
   "execution_count": 24,
   "id": "7326b71f-7590-484b-bf6d-b04f9517fa19",
   "metadata": {},
   "outputs": [],
   "source": [
    "# driver.maximize_window()\n",
    "driver.quit()"
   ]
  },
  {
   "cell_type": "code",
   "execution_count": 14,
   "id": "073d271e-aa98-439e-be35-743466bd4319",
   "metadata": {},
   "outputs": [],
   "source": [
    "import random\n",
    "import time\n",
    "def random_delay(min_delay, max_delay):\n",
    "    delay = random.uniform(min_delay, max_delay)\n",
    "    time.sleep(delay)"
   ]
  },
  {
   "cell_type": "code",
   "execution_count": 12,
   "id": "0862a187-f45d-4314-a806-0667f3e1a850",
   "metadata": {},
   "outputs": [],
   "source": [
    "driver.get(\"https://www.bezkolejki.eu/luwlodz\")"
   ]
  },
  {
   "cell_type": "code",
   "execution_count": 6,
   "id": "f7a21143-093e-4f84-8c13-2b24fb8f612c",
   "metadata": {},
   "outputs": [],
   "source": [
    "appoinmentLables = \"//div[@role='tabpanel'][@id='Operacja2']/div[@class='row']\"\n",
    "Alables = driver.find_elements(By.XPATH, appoinmentLables)"
   ]
  },
  {
   "cell_type": "code",
   "execution_count": 29,
   "id": "37d20d32-c9ac-4dc4-a81c-40fe710938a9",
   "metadata": {},
   "outputs": [
    {
     "name": "stdout",
     "output_type": "stream",
     "text": [
      " Brak dostępnych rezerwacji w okresie od 24.11.2023 do 30.11.2023 \n"
     ]
    },
    {
     "ename": "StaleElementReferenceException",
     "evalue": "Message: stale element reference: stale element not found\n  (Session info: chrome=119.0.6045.160); For documentation on this error, please visit: https://www.selenium.dev/documentation/webdriver/troubleshooting/errors#stale-element-reference-exception\nStacktrace:\n\tGetHandleVerifier [0x00007FF7AA2782B2+55298]\n\t(No symbol) [0x00007FF7AA1E5E02]\n\t(No symbol) [0x00007FF7AA0A05AB]\n\t(No symbol) [0x00007FF7AA0AE59A]\n\t(No symbol) [0x00007FF7AA0A59E9]\n\t(No symbol) [0x00007FF7AA0A4298]\n\t(No symbol) [0x00007FF7AA0A6FDF]\n\t(No symbol) [0x00007FF7AA0A70D0]\n\t(No symbol) [0x00007FF7AA0E3265]\n\t(No symbol) [0x00007FF7AA0D8586]\n\t(No symbol) [0x00007FF7AA1020AA]\n\t(No symbol) [0x00007FF7AA0D80CF]\n\t(No symbol) [0x00007FF7AA1022C0]\n\t(No symbol) [0x00007FF7AA11AAA4]\n\t(No symbol) [0x00007FF7AA101E83]\n\t(No symbol) [0x00007FF7AA0D670A]\n\t(No symbol) [0x00007FF7AA0D7964]\n\tGetHandleVerifier [0x00007FF7AA5F0AAB+3694587]\n\tGetHandleVerifier [0x00007FF7AA64728E+4048862]\n\tGetHandleVerifier [0x00007FF7AA63F173+4015811]\n\tGetHandleVerifier [0x00007FF7AA3147D6+695590]\n\t(No symbol) [0x00007FF7AA1F0CE8]\n\t(No symbol) [0x00007FF7AA1ECF34]\n\t(No symbol) [0x00007FF7AA1ED062]\n\t(No symbol) [0x00007FF7AA1DD3A3]\n\tBaseThreadInitThunk [0x00007FFAA3F526AD+29]\n\tRtlUserThreadStart [0x00007FFAA4B8A9F8+40]\n",
     "output_type": "error",
     "traceback": [
      "\u001b[1;31m---------------------------------------------------------------------------\u001b[0m",
      "\u001b[1;31mStaleElementReferenceException\u001b[0m            Traceback (most recent call last)",
      "Cell \u001b[1;32mIn[29], line 2\u001b[0m\n\u001b[0;32m      1\u001b[0m \u001b[38;5;28;01mfor\u001b[39;00m apponit \u001b[38;5;129;01min\u001b[39;00m Alables:\n\u001b[1;32m----> 2\u001b[0m     \u001b[43mapponit\u001b[49m\u001b[38;5;241;43m.\u001b[39;49m\u001b[43mclick\u001b[49m\u001b[43m(\u001b[49m\u001b[43m)\u001b[49m\n\u001b[0;32m      3\u001b[0m     random_delay(\u001b[38;5;241m3\u001b[39m, \u001b[38;5;241m5\u001b[39m)\n\u001b[0;32m      4\u001b[0m     driver\u001b[38;5;241m.\u001b[39mfind_element(By\u001b[38;5;241m.\u001b[39mXPATH, \u001b[38;5;124m\"\u001b[39m\u001b[38;5;124m*//button[contains(text(), \u001b[39m\u001b[38;5;124m'\u001b[39m\u001b[38;5;124mDalej\u001b[39m\u001b[38;5;124m'\u001b[39m\u001b[38;5;124m)]\u001b[39m\u001b[38;5;124m\"\u001b[39m)\u001b[38;5;241m.\u001b[39mclick()\n",
      "File \u001b[1;32mC:\\Python311\\Lib\\site-packages\\selenium\\webdriver\\remote\\webelement.py:93\u001b[0m, in \u001b[0;36mWebElement.click\u001b[1;34m(self)\u001b[0m\n\u001b[0;32m     91\u001b[0m \u001b[38;5;28;01mdef\u001b[39;00m \u001b[38;5;21mclick\u001b[39m(\u001b[38;5;28mself\u001b[39m) \u001b[38;5;241m-\u001b[39m\u001b[38;5;241m>\u001b[39m \u001b[38;5;28;01mNone\u001b[39;00m:\n\u001b[0;32m     92\u001b[0m \u001b[38;5;250m    \u001b[39m\u001b[38;5;124;03m\"\"\"Clicks the element.\"\"\"\u001b[39;00m\n\u001b[1;32m---> 93\u001b[0m     \u001b[38;5;28;43mself\u001b[39;49m\u001b[38;5;241;43m.\u001b[39;49m\u001b[43m_execute\u001b[49m\u001b[43m(\u001b[49m\u001b[43mCommand\u001b[49m\u001b[38;5;241;43m.\u001b[39;49m\u001b[43mCLICK_ELEMENT\u001b[49m\u001b[43m)\u001b[49m\n",
      "File \u001b[1;32mC:\\Python311\\Lib\\site-packages\\selenium\\webdriver\\remote\\webelement.py:394\u001b[0m, in \u001b[0;36mWebElement._execute\u001b[1;34m(self, command, params)\u001b[0m\n\u001b[0;32m    392\u001b[0m     params \u001b[38;5;241m=\u001b[39m {}\n\u001b[0;32m    393\u001b[0m params[\u001b[38;5;124m\"\u001b[39m\u001b[38;5;124mid\u001b[39m\u001b[38;5;124m\"\u001b[39m] \u001b[38;5;241m=\u001b[39m \u001b[38;5;28mself\u001b[39m\u001b[38;5;241m.\u001b[39m_id\n\u001b[1;32m--> 394\u001b[0m \u001b[38;5;28;01mreturn\u001b[39;00m \u001b[38;5;28;43mself\u001b[39;49m\u001b[38;5;241;43m.\u001b[39;49m\u001b[43m_parent\u001b[49m\u001b[38;5;241;43m.\u001b[39;49m\u001b[43mexecute\u001b[49m\u001b[43m(\u001b[49m\u001b[43mcommand\u001b[49m\u001b[43m,\u001b[49m\u001b[43m \u001b[49m\u001b[43mparams\u001b[49m\u001b[43m)\u001b[49m\n",
      "File \u001b[1;32mC:\\Python311\\Lib\\site-packages\\selenium\\webdriver\\remote\\webdriver.py:344\u001b[0m, in \u001b[0;36mWebDriver.execute\u001b[1;34m(self, driver_command, params)\u001b[0m\n\u001b[0;32m    342\u001b[0m response \u001b[38;5;241m=\u001b[39m \u001b[38;5;28mself\u001b[39m\u001b[38;5;241m.\u001b[39mcommand_executor\u001b[38;5;241m.\u001b[39mexecute(driver_command, params)\n\u001b[0;32m    343\u001b[0m \u001b[38;5;28;01mif\u001b[39;00m response:\n\u001b[1;32m--> 344\u001b[0m     \u001b[38;5;28;43mself\u001b[39;49m\u001b[38;5;241;43m.\u001b[39;49m\u001b[43merror_handler\u001b[49m\u001b[38;5;241;43m.\u001b[39;49m\u001b[43mcheck_response\u001b[49m\u001b[43m(\u001b[49m\u001b[43mresponse\u001b[49m\u001b[43m)\u001b[49m\n\u001b[0;32m    345\u001b[0m     response[\u001b[38;5;124m\"\u001b[39m\u001b[38;5;124mvalue\u001b[39m\u001b[38;5;124m\"\u001b[39m] \u001b[38;5;241m=\u001b[39m \u001b[38;5;28mself\u001b[39m\u001b[38;5;241m.\u001b[39m_unwrap_value(response\u001b[38;5;241m.\u001b[39mget(\u001b[38;5;124m\"\u001b[39m\u001b[38;5;124mvalue\u001b[39m\u001b[38;5;124m\"\u001b[39m, \u001b[38;5;28;01mNone\u001b[39;00m))\n\u001b[0;32m    346\u001b[0m     \u001b[38;5;28;01mreturn\u001b[39;00m response\n",
      "File \u001b[1;32mC:\\Python311\\Lib\\site-packages\\selenium\\webdriver\\remote\\errorhandler.py:229\u001b[0m, in \u001b[0;36mErrorHandler.check_response\u001b[1;34m(self, response)\u001b[0m\n\u001b[0;32m    227\u001b[0m         alert_text \u001b[38;5;241m=\u001b[39m value[\u001b[38;5;124m\"\u001b[39m\u001b[38;5;124malert\u001b[39m\u001b[38;5;124m\"\u001b[39m]\u001b[38;5;241m.\u001b[39mget(\u001b[38;5;124m\"\u001b[39m\u001b[38;5;124mtext\u001b[39m\u001b[38;5;124m\"\u001b[39m)\n\u001b[0;32m    228\u001b[0m     \u001b[38;5;28;01mraise\u001b[39;00m exception_class(message, screen, stacktrace, alert_text)  \u001b[38;5;66;03m# type: ignore[call-arg]  # mypy is not smart enough here\u001b[39;00m\n\u001b[1;32m--> 229\u001b[0m \u001b[38;5;28;01mraise\u001b[39;00m exception_class(message, screen, stacktrace)\n",
      "\u001b[1;31mStaleElementReferenceException\u001b[0m: Message: stale element reference: stale element not found\n  (Session info: chrome=119.0.6045.160); For documentation on this error, please visit: https://www.selenium.dev/documentation/webdriver/troubleshooting/errors#stale-element-reference-exception\nStacktrace:\n\tGetHandleVerifier [0x00007FF7AA2782B2+55298]\n\t(No symbol) [0x00007FF7AA1E5E02]\n\t(No symbol) [0x00007FF7AA0A05AB]\n\t(No symbol) [0x00007FF7AA0AE59A]\n\t(No symbol) [0x00007FF7AA0A59E9]\n\t(No symbol) [0x00007FF7AA0A4298]\n\t(No symbol) [0x00007FF7AA0A6FDF]\n\t(No symbol) [0x00007FF7AA0A70D0]\n\t(No symbol) [0x00007FF7AA0E3265]\n\t(No symbol) [0x00007FF7AA0D8586]\n\t(No symbol) [0x00007FF7AA1020AA]\n\t(No symbol) [0x00007FF7AA0D80CF]\n\t(No symbol) [0x00007FF7AA1022C0]\n\t(No symbol) [0x00007FF7AA11AAA4]\n\t(No symbol) [0x00007FF7AA101E83]\n\t(No symbol) [0x00007FF7AA0D670A]\n\t(No symbol) [0x00007FF7AA0D7964]\n\tGetHandleVerifier [0x00007FF7AA5F0AAB+3694587]\n\tGetHandleVerifier [0x00007FF7AA64728E+4048862]\n\tGetHandleVerifier [0x00007FF7AA63F173+4015811]\n\tGetHandleVerifier [0x00007FF7AA3147D6+695590]\n\t(No symbol) [0x00007FF7AA1F0CE8]\n\t(No symbol) [0x00007FF7AA1ECF34]\n\t(No symbol) [0x00007FF7AA1ED062]\n\t(No symbol) [0x00007FF7AA1DD3A3]\n\tBaseThreadInitThunk [0x00007FFAA3F526AD+29]\n\tRtlUserThreadStart [0x00007FFAA4B8A9F8+40]\n"
     ]
    }
   ],
   "source": [
    "for apponit in Alables:\n",
    "    apponit.click()\n",
    "    random_delay(3, 5)\n",
    "    driver.find_element(By.XPATH, \"*//button[contains(text(), 'Dalej')]\").click()\n",
    "    try:\n",
    "        appoinment_not_present = driver.find_element(By.XPATH, \"*//h5[contains(text(), 'Brak')]\").text\n",
    "        print(appoinment_not_present)\n",
    "        driver.get(\"https://www.bezkolejki.eu/luwlodz\")\n",
    "    except:\n",
    "        print(\"Booking avaliable\")\n",
    "    "
   ]
  },
  {
   "cell_type": "code",
   "execution_count": null,
   "id": "538dcb86-638b-4a2d-84fe-58ab361cdfa5",
   "metadata": {},
   "outputs": [],
   "source": []
  },
  {
   "cell_type": "code",
   "execution_count": 5,
   "id": "fa7f1af1-7ec6-4606-853d-646e0ea6e39b",
   "metadata": {},
   "outputs": [
    {
     "ename": "NoSuchElementException",
     "evalue": "Message: no such element: Unable to locate element: {\"method\":\"xpath\",\"selector\":\"*//h5[contains(text(), 'Brak')]\"}\n  (Session info: chrome=119.0.6045.160); For documentation on this error, please visit: https://www.selenium.dev/documentation/webdriver/troubleshooting/errors#no-such-element-exception\nStacktrace:\n\tGetHandleVerifier [0x00007FF7C57882B2+55298]\n\t(No symbol) [0x00007FF7C56F5E02]\n\t(No symbol) [0x00007FF7C55B05AB]\n\t(No symbol) [0x00007FF7C55F175C]\n\t(No symbol) [0x00007FF7C55F18DC]\n\t(No symbol) [0x00007FF7C562CBC7]\n\t(No symbol) [0x00007FF7C56120EF]\n\t(No symbol) [0x00007FF7C562AAA4]\n\t(No symbol) [0x00007FF7C5611E83]\n\t(No symbol) [0x00007FF7C55E670A]\n\t(No symbol) [0x00007FF7C55E7964]\n\tGetHandleVerifier [0x00007FF7C5B00AAB+3694587]\n\tGetHandleVerifier [0x00007FF7C5B5728E+4048862]\n\tGetHandleVerifier [0x00007FF7C5B4F173+4015811]\n\tGetHandleVerifier [0x00007FF7C58247D6+695590]\n\t(No symbol) [0x00007FF7C5700CE8]\n\t(No symbol) [0x00007FF7C56FCF34]\n\t(No symbol) [0x00007FF7C56FD062]\n\t(No symbol) [0x00007FF7C56ED3A3]\n\tBaseThreadInitThunk [0x00007FFAA3F526AD+29]\n\tRtlUserThreadStart [0x00007FFAA4B8A9F8+40]\n",
     "output_type": "error",
     "traceback": [
      "\u001b[1;31m---------------------------------------------------------------------------\u001b[0m",
      "\u001b[1;31mNoSuchElementException\u001b[0m                    Traceback (most recent call last)",
      "Cell \u001b[1;32mIn[5], line 1\u001b[0m\n\u001b[1;32m----> 1\u001b[0m appoinment_not_present \u001b[38;5;241m=\u001b[39m \u001b[43mdriver\u001b[49m\u001b[38;5;241;43m.\u001b[39;49m\u001b[43mfind_element\u001b[49m\u001b[43m(\u001b[49m\u001b[43mBy\u001b[49m\u001b[38;5;241;43m.\u001b[39;49m\u001b[43mXPATH\u001b[49m\u001b[43m,\u001b[49m\u001b[43m \u001b[49m\u001b[38;5;124;43m\"\u001b[39;49m\u001b[38;5;124;43m*//h5[contains(text(), \u001b[39;49m\u001b[38;5;124;43m'\u001b[39;49m\u001b[38;5;124;43mBrak\u001b[39;49m\u001b[38;5;124;43m'\u001b[39;49m\u001b[38;5;124;43m)]\u001b[39;49m\u001b[38;5;124;43m\"\u001b[39;49m\u001b[43m)\u001b[49m\u001b[38;5;241m.\u001b[39mtext\n",
      "File \u001b[1;32mC:\\Python311\\Lib\\site-packages\\selenium\\webdriver\\remote\\webdriver.py:738\u001b[0m, in \u001b[0;36mWebDriver.find_element\u001b[1;34m(self, by, value)\u001b[0m\n\u001b[0;32m    735\u001b[0m     by \u001b[38;5;241m=\u001b[39m By\u001b[38;5;241m.\u001b[39mCSS_SELECTOR\n\u001b[0;32m    736\u001b[0m     value \u001b[38;5;241m=\u001b[39m \u001b[38;5;124mf\u001b[39m\u001b[38;5;124m'\u001b[39m\u001b[38;5;124m[name=\u001b[39m\u001b[38;5;124m\"\u001b[39m\u001b[38;5;132;01m{\u001b[39;00mvalue\u001b[38;5;132;01m}\u001b[39;00m\u001b[38;5;124m\"\u001b[39m\u001b[38;5;124m]\u001b[39m\u001b[38;5;124m'\u001b[39m\n\u001b[1;32m--> 738\u001b[0m \u001b[38;5;28;01mreturn\u001b[39;00m \u001b[38;5;28;43mself\u001b[39;49m\u001b[38;5;241;43m.\u001b[39;49m\u001b[43mexecute\u001b[49m\u001b[43m(\u001b[49m\u001b[43mCommand\u001b[49m\u001b[38;5;241;43m.\u001b[39;49m\u001b[43mFIND_ELEMENT\u001b[49m\u001b[43m,\u001b[49m\u001b[43m \u001b[49m\u001b[43m{\u001b[49m\u001b[38;5;124;43m\"\u001b[39;49m\u001b[38;5;124;43musing\u001b[39;49m\u001b[38;5;124;43m\"\u001b[39;49m\u001b[43m:\u001b[49m\u001b[43m \u001b[49m\u001b[43mby\u001b[49m\u001b[43m,\u001b[49m\u001b[43m \u001b[49m\u001b[38;5;124;43m\"\u001b[39;49m\u001b[38;5;124;43mvalue\u001b[39;49m\u001b[38;5;124;43m\"\u001b[39;49m\u001b[43m:\u001b[49m\u001b[43m \u001b[49m\u001b[43mvalue\u001b[49m\u001b[43m}\u001b[49m\u001b[43m)\u001b[49m[\u001b[38;5;124m\"\u001b[39m\u001b[38;5;124mvalue\u001b[39m\u001b[38;5;124m\"\u001b[39m]\n",
      "File \u001b[1;32mC:\\Python311\\Lib\\site-packages\\selenium\\webdriver\\remote\\webdriver.py:344\u001b[0m, in \u001b[0;36mWebDriver.execute\u001b[1;34m(self, driver_command, params)\u001b[0m\n\u001b[0;32m    342\u001b[0m response \u001b[38;5;241m=\u001b[39m \u001b[38;5;28mself\u001b[39m\u001b[38;5;241m.\u001b[39mcommand_executor\u001b[38;5;241m.\u001b[39mexecute(driver_command, params)\n\u001b[0;32m    343\u001b[0m \u001b[38;5;28;01mif\u001b[39;00m response:\n\u001b[1;32m--> 344\u001b[0m     \u001b[38;5;28;43mself\u001b[39;49m\u001b[38;5;241;43m.\u001b[39;49m\u001b[43merror_handler\u001b[49m\u001b[38;5;241;43m.\u001b[39;49m\u001b[43mcheck_response\u001b[49m\u001b[43m(\u001b[49m\u001b[43mresponse\u001b[49m\u001b[43m)\u001b[49m\n\u001b[0;32m    345\u001b[0m     response[\u001b[38;5;124m\"\u001b[39m\u001b[38;5;124mvalue\u001b[39m\u001b[38;5;124m\"\u001b[39m] \u001b[38;5;241m=\u001b[39m \u001b[38;5;28mself\u001b[39m\u001b[38;5;241m.\u001b[39m_unwrap_value(response\u001b[38;5;241m.\u001b[39mget(\u001b[38;5;124m\"\u001b[39m\u001b[38;5;124mvalue\u001b[39m\u001b[38;5;124m\"\u001b[39m, \u001b[38;5;28;01mNone\u001b[39;00m))\n\u001b[0;32m    346\u001b[0m     \u001b[38;5;28;01mreturn\u001b[39;00m response\n",
      "File \u001b[1;32mC:\\Python311\\Lib\\site-packages\\selenium\\webdriver\\remote\\errorhandler.py:229\u001b[0m, in \u001b[0;36mErrorHandler.check_response\u001b[1;34m(self, response)\u001b[0m\n\u001b[0;32m    227\u001b[0m         alert_text \u001b[38;5;241m=\u001b[39m value[\u001b[38;5;124m\"\u001b[39m\u001b[38;5;124malert\u001b[39m\u001b[38;5;124m\"\u001b[39m]\u001b[38;5;241m.\u001b[39mget(\u001b[38;5;124m\"\u001b[39m\u001b[38;5;124mtext\u001b[39m\u001b[38;5;124m\"\u001b[39m)\n\u001b[0;32m    228\u001b[0m     \u001b[38;5;28;01mraise\u001b[39;00m exception_class(message, screen, stacktrace, alert_text)  \u001b[38;5;66;03m# type: ignore[call-arg]  # mypy is not smart enough here\u001b[39;00m\n\u001b[1;32m--> 229\u001b[0m \u001b[38;5;28;01mraise\u001b[39;00m exception_class(message, screen, stacktrace)\n",
      "\u001b[1;31mNoSuchElementException\u001b[0m: Message: no such element: Unable to locate element: {\"method\":\"xpath\",\"selector\":\"*//h5[contains(text(), 'Brak')]\"}\n  (Session info: chrome=119.0.6045.160); For documentation on this error, please visit: https://www.selenium.dev/documentation/webdriver/troubleshooting/errors#no-such-element-exception\nStacktrace:\n\tGetHandleVerifier [0x00007FF7C57882B2+55298]\n\t(No symbol) [0x00007FF7C56F5E02]\n\t(No symbol) [0x00007FF7C55B05AB]\n\t(No symbol) [0x00007FF7C55F175C]\n\t(No symbol) [0x00007FF7C55F18DC]\n\t(No symbol) [0x00007FF7C562CBC7]\n\t(No symbol) [0x00007FF7C56120EF]\n\t(No symbol) [0x00007FF7C562AAA4]\n\t(No symbol) [0x00007FF7C5611E83]\n\t(No symbol) [0x00007FF7C55E670A]\n\t(No symbol) [0x00007FF7C55E7964]\n\tGetHandleVerifier [0x00007FF7C5B00AAB+3694587]\n\tGetHandleVerifier [0x00007FF7C5B5728E+4048862]\n\tGetHandleVerifier [0x00007FF7C5B4F173+4015811]\n\tGetHandleVerifier [0x00007FF7C58247D6+695590]\n\t(No symbol) [0x00007FF7C5700CE8]\n\t(No symbol) [0x00007FF7C56FCF34]\n\t(No symbol) [0x00007FF7C56FD062]\n\t(No symbol) [0x00007FF7C56ED3A3]\n\tBaseThreadInitThunk [0x00007FFAA3F526AD+29]\n\tRtlUserThreadStart [0x00007FFAA4B8A9F8+40]\n"
     ]
    }
   ],
   "source": [
    "appoinment_not_present = driver.find_element(By.XPATH, \"*//h5[contains(text(), 'Brak')]\").text"
   ]
  },
  {
   "cell_type": "code",
   "execution_count": 6,
   "id": "40062023-83d9-47c5-835b-58a98bb7a684",
   "metadata": {},
   "outputs": [],
   "source": [
    "driver.get(\"https://www.bezkolejki.eu/luwlodz\")"
   ]
  },
  {
   "cell_type": "code",
   "execution_count": 16,
   "id": "739b7913-8ddd-4e58-bbac-18ca648e0777",
   "metadata": {},
   "outputs": [
    {
     "name": "stdout",
     "output_type": "stream",
     "text": [
      "0\n",
      " Brak dostępnych terminów do rezerwacji \n",
      "No Booking Going back\n",
      "1\n",
      " Brak dostępnych terminów do rezerwacji \n",
      "No Booking Going back\n",
      "2\n",
      " Brak dostępnych terminów do rezerwacji \n",
      "No Booking Going back\n",
      "3\n",
      " Brak dostępnych terminów do rezerwacji \n",
      "No Booking Going back\n",
      "4\n",
      " Brak dostępnych terminów do rezerwacji \n",
      "No Booking Going back\n",
      "5\n",
      " Brak dostępnych terminów do rezerwacji \n",
      "No Booking Going back\n",
      "6\n",
      " Brak dostępnych terminów do rezerwacji \n",
      "No Booking Going back\n",
      "7\n",
      " Brak dostępnych terminów do rezerwacji \n",
      "No Booking Going back\n",
      "8\n",
      " Brak dostępnych terminów do rezerwacji \n",
      "No Booking Going back\n",
      "9\n",
      " Brak dostępnych terminów do rezerwacji \n",
      "No Booking Going back\n"
     ]
    }
   ],
   "source": [
    "button_xpath = \"*//button[contains(text(), 'Dalej')]\"\n",
    "brak_xpath = \"*//h5[contains(text(), 'Brak')]\"\n",
    "appoinmentLables = \"//div[@role='tabpanel'][@id='Operacja2']/div[@class='row']\"\n",
    "Alables = driver.find_elements(By.XPATH, appoinmentLables)\n",
    "for appointment in range(0,10):\n",
    "    random_delay(2, 4)\n",
    "    Alables = driver.find_elements(By.XPATH, appoinmentLables)\n",
    "    print(appointment)\n",
    "    nextButton = WebDriverWait(driver, 10).until(EC.element_to_be_clickable((By.XPATH, button_xpath)))\n",
    "    driver.execute_script(\"arguments[0].scrollIntoView();\", nextButton)\n",
    "    driver.execute_script(\"arguments[0].scrollIntoView();\", Alables[appointment])\n",
    "    Alables[appointment].click()\n",
    "    WebDriverWait(driver, 10).until(EC.element_to_be_clickable((By.XPATH, button_xpath)))\n",
    "    # nextButton = driver.find_element(By.XPATH, button_xpath)\n",
    "    driver.execute_script(\"arguments[0].scrollIntoView();\", nextButton)\n",
    "    nextButton.click()\n",
    "    random_delay(2, 4)\n",
    "    try:\n",
    "        WebDriverWait(driver, 10).until(EC.presence_of_element_located((By.XPATH, brak_xpath)))\n",
    "        appoinment_not_present = driver.find_element(By.XPATH, brak_xpath).text\n",
    "        print(appoinment_not_present)\n",
    "        print(\"No Booking Going back\")\n",
    "        driver.find_element(By.XPATH, '*//a/div[@id=\"step-Operacja2\"]').click()\n",
    "    except:\n",
    "        print(\"Booking available\")"
   ]
  },
  {
   "cell_type": "code",
   "execution_count": 46,
   "id": "211ede1a-3cf6-46e5-b1e7-fc4226e9c782",
   "metadata": {},
   "outputs": [],
   "source": [
    "Alables = driver.find_elements(By.XPATH, appoinmentLables)"
   ]
  },
  {
   "cell_type": "code",
   "execution_count": 51,
   "id": "d22b791a-7dcb-4787-a660-9da95d53a3d7",
   "metadata": {},
   "outputs": [],
   "source": [
    "Alables[1].click()"
   ]
  },
  {
   "cell_type": "code",
   "execution_count": 11,
   "id": "d287881c-b942-482f-b895-a68fa10ea190",
   "metadata": {},
   "outputs": [],
   "source": [
    "from twocaptcha import TwoCaptcha\n",
    "solver = TwoCaptcha('c11c2ba87e6f0fd40c48bbfc0c1168a7')"
   ]
  },
  {
   "cell_type": "code",
   "execution_count": 13,
   "id": "a8874c78-6f9e-460f-8d6a-0e75f648b24b",
   "metadata": {},
   "outputs": [],
   "source": [
    "def solvehCaptcha():\n",
    "    solver = TwoCaptcha('c11c2ba87e6f0fd40c48bbfc0c1168a7')\n",
    "\n",
    "    try:\n",
    "        result = solver.hcaptcha(\n",
    "            sitekey='b3f14452-58e2-4030-82ae-9d4647a77b88',\n",
    "            url=driver.current_url,\n",
    "        )\n",
    "\n",
    "    except Exception as e:\n",
    "        print(e)\n",
    "        return False\n",
    "\n",
    "    else:\n",
    "        return result"
   ]
  },
  {
   "cell_type": "code",
   "execution_count": 15,
   "id": "d657761f-1ff1-4262-8da5-331ef79c7172",
   "metadata": {},
   "outputs": [],
   "source": [
    "result = solvehCaptcha()"
   ]
  },
  {
   "cell_type": "code",
   "execution_count": 16,
   "id": "96a2f9b5-37a4-4b6d-8eb9-832609438522",
   "metadata": {},
   "outputs": [
    {
     "name": "stdout",
     "output_type": "stream",
     "text": [
      "{'captchaId': '75093496165', 'code': 'P1_eyJ0eXAiOiJKV1QiLCJhbGciOiJIUzI1NiJ9.hKdwYXNza2V5xQU7xmTsYyvqeg4iljwLULJnie3bP4lOsbGm2pZ4EBt8yb4Lyal5a_1Da52Iq-zg7hejv1AFwJ1Q9WTucEDMp_JGTONDoiIGK4N7m-8wlxNtXlUesYpMwfja-BmGfLXQ9JXa0Ro4OHXqOCGJWBJThk3gQFlZDm_kSS6Jp-h0KDawrycZpa_I0zt2bQ_v_z1f8BWvrxhVZpCNl1ppuibzhBFSA0rxyGsO4rVZS-cvJOLb8uXI24mb6BOfZHDG-BpGuI974sVzZ9BNASIkwdnX5IuqTGlKBDuxFembJ1IBJo6gerRxX7Mmdn5NBQd6RDQhpIGeHSsYsgjYFO-A4M0-XTXsH3npppM4mMueqpLsRAwKjXf6tfcloM-trUt2VWZWTO6aiKLed10yaLqZtzxTMDjamruxm7FFhwy_ppsL1ZlhACAPqqKtVShdtr-4g_WFONsytZu2oVfrdJbo9zlJksIv7E_6wg9L1WaK5mVrLdBvf74BR9c7DTyuEacRctq5gJQ-J4DrUCeUmKEfeAYic7hwxnpK2cgEjB92dG2T-pF2BJEQW-I8PS0LKzuyL3f0dcKfkgxR_JEtuOZCyNYGPKF2aTG1k8ID6wfridgiEbDM6eHfjK5GGz8TWzYR7MyuOZZeoc-i51i5vWQe4rIRoRX1P6fmaqelH_FZeUk0gfT-W9Fy_yfhWjlORZ72EK0_xWIFZX7RkFKTvDXqOXKc9I5E8BWzNIoAuG6NrnYzqLtv1GkhcOfo8N0zUNRBg4nSudzUgzrW8b2yQFTbHUv2EcXckycbqR-W4mL9Oy7N4Vjtb5z5K5X6xOjtYdtZa0kp2jmi7G734xQhBJhvtmmoO5VTnPyrjMe7WRFNbulhd9z0LBjYe_iiiIoY9uYZOJDQq79UA7l-7ORUmUuWgFz8lJjd2oyseqSaVy701B2KH2l2a0pD-M2xPrY5ZecFgNd7_zoXrjRFrn9ERbJsxtdN-9RwgkntrDx_II6ZLu3zqxAkjFshFv9czvuQdZreaz2v7X8y63JHeQhiaWws2yffC-skKh-2fLeRcKSdxTO0yq6MQsZEbujnn-ME-i4z_HWXtr-jsVjQAqKWo8L-SuoZ_MJc5YgwWZEZR4diZHHQkNM_KcBU7EB_V-UVBjoZzT8ZsMrNi9X_xD77pNYjtNyHnf0qng7sM69CM4g3tzYWM6PLctmKQ4F4XIJPHPylh-VLmNCg-pr-IRHHTGDGnRyRxIjoG_rp8PyD7ht79lMJvUcpyK6AXKdg71lwIAIG-yvmYYnfk6IYeleWtGrtJ1lqIJHvNr0bdAEJyZXqMwDhlv26eVSQkYbR4sn7iNKC95CaJUMYG77N6HX4__SzUEO4dAkeAlAP66fJXZ5_J8ITjtq3kN_rlJf-uoZ2cB3C42JNxNb24hxGa1_c_G_sZ5CpKT3BrhDHmcIozfcxPlmU76FsK7a39VmZXgar3r242TnmyIbY4UVrpC9E6OlKOm2jra3gCp5wk1HfDV5Y4XRxsMkWJHlnDNp_C6X5wxIwMt_gQ92yT4ravwgU6pvtNu0tYOVttBv65m1bqvGWpnDvw4ou-MGj2ED7NtfRyRWzTukXKojamvbJaVXLaGTQr88RrbvqLRWmJ4YWcDVuJ_GrH-XxVZFw-UzKFO0GUVALDvR0zlpyPsttadpvjs9xgeHJHzzbl0JScKfzfZjluNI-ZNl97ao73uZSBN5v6AxOZDs7hse3gbczt2rY-JhaAiH61lulSaKHpBQXx4lV2oOpMIPDyFWnViBSC0E7xig2qaNleHDOZWBDuahzaGFyZF9pZM4UPIQfonBkAA.z5O23Bi3wTgEdPlelr04ykSo4VmiiZ1hyUkvkRg6Tts'}\n"
     ]
    }
   ],
   "source": [
    "print(result)"
   ]
  },
  {
   "cell_type": "code",
   "execution_count": 27,
   "id": "b7bd4cb3-b3cb-4f0c-8e50-72eaf2ef7cce",
   "metadata": {},
   "outputs": [
    {
     "name": "stdout",
     "output_type": "stream",
     "text": [
      "P1_eyJ0eXAiOiJKV1QiLCJhbGciOiJIUzI1NiJ9.hKdwYXNza2V5xQUzg4FWfBcSb8zI1GxDq4ncFnaXGtQRLuSGWi_QvoppJ5AxAtNh_sgfqp0M5sTv8JNAQMxGpRZ5eZV_cDUl_QMiUuKgaUZRZp_WfeTW4rfCMLRHlqtnGOPcqk-EAvmQO1fPsMZnY_R633jqKz6vDoQAuWhoJM93LQr3evOvx4xKbUV2HwJleBMlPsKyNDUoOyM-8wjfwGhuZRCwMKdgEIKw0dcPBs5ZUZKbrY7wsYyqp5DNxP4i_xBilmUNzpTsrDbMvD9ouyuhbxFxn0zLmsCF9zHWD5asxNUdGQSzwJD65GIu646-zhVDC6hYresKeoBuX28Sfp0RnnDjF_fZQrGcyZ6yBbz3IHboq8chmepGw-g1lX0kTup78qWD9apz8TUW7ofaBim-TcyGKiSomxl5a9-dea2n9m8fcccClwL3r0EfVxWckwIOmU8sOWuThmUTgIm2IR0Rf3RgwwyNqujMAqtm2EzO1lpjv3T6R7B3rldGFnOeCOjaZaAhV2ovTaGWL7E-W-1RbUJX0MrnOOqs4wdm3iCEXcajcTvQ1XMn8mylM9v37h2wk1b86w7XFDxDYMId1b60YqKXQUMjacUgpiv_5wDA_JfEIP1pBrrbUKOsJfHiIrD0RmAdZXt6e2J2LX3LHgTxZDSO7pl-7fPfg6ThqV1eZ76u0VcCiSXlpC06NCDAvVAPXSIZt4JyUw32s6cEPi8hbKIZ3Go7Pm3A5WJP-N-rUrsVm9Ole0UZ0qDSmyjgU6yQbfw0a7DlSdFoWf0qW56u_AWX-VJcpmhy1o-X_Lqu-St79l8b1i7d9FYf2jLv8dzw2zrxvqw7CWykgco-rqE47IqjOHFCN8BqQrnOOSdfONbiZsjWD86uLAK-1jzlqDMpc36ngRkqQZvQ5mlmWGov1T6EbrUZj3NlrEkPpR6AXFkr8A5Q1-YmMorcajC4s9lbYHSx9sfEobA9xJerhppWF8bjqSTfS6vyYCpqCvYjZbuIwHBGiB1yHToJMzP7kNlHHKg58nXz8sFRPpguaDM4-xfmI92plb7rcW0_cdOI8gzFr4X4hmyD2epFTN0VXO1QIMdmP1u-UIaCkfZSKopQcvm33XKnOEKJO1hObp8HlA6C9Gv95doQna1yYyHIeBMJARMLyNtrCh98n3swptNTRl8cLg3Flmdf_ya4bgwESkThTviYQvWJFLpfpFoJNfhESuVXrt9RQemJsQIK1FqF_I9UMVC3IM5XG3Gz7c5KVGtO6EV9kf_lzVY_LwxHHzYIZPSgOLSFtgReVXECa5LXmISbbkc6LOP6tL0a8nB70rwtqI8dmUMDwPbhEBO6L_aOTyeuFgX2G4Hcu6m_q4GQ_4qTE_EhwufID1O-cJ09wbJRamSwso2ICQf9-WBVjOG742tiwUELkgzRVqM1tv2Ur6xLK71lrtzoK4dejt6_Hs6lc4JLXPdbCe1MqSiapTnYdr0nv9VELBpb8q6ARcgfoavmaamf5cIO88qJfXxokH56gkvwZHGfla-gw-UhrjqxISM19gF2U_-8-OxziViRjvZ1JxYr5graBE5z1LHgP5RQlc-wF87fHRJaYKUJQyFHSpljIVTeX9pNvMTEO6IeegvZwYNHRypzeqe5xmdLwhh-XqHaMPLM-dfkqEGZ6NaVvdtkb3A7dabpQRhI0lrRY3X6HwL3P-1_bOKc2XDHvdU1hh32eKek7qn5Ngi3jKhZl6CKa-TUgKm6irR0owQISGZVHq9qKy_vBncnuKEO8JCEw57bhlCXVWua8YKjZXhwzmVfnQSoc2hhcmRfaWTOFZnkVKJwZAA.FZpxFX2GLITqwnLlbPHmTKvj8wRL8TQfG3RDn2RQ3eM\n"
     ]
    }
   ],
   "source": [
    "print(result['code'])"
   ]
  },
  {
   "cell_type": "code",
   "execution_count": 10,
   "id": "15e8cf60-a490-4e22-929e-74c3d8cd67f1",
   "metadata": {},
   "outputs": [
    {
     "ename": "NameError",
     "evalue": "name 'result' is not defined",
     "output_type": "error",
     "traceback": [
      "\u001b[1;31m---------------------------------------------------------------------------\u001b[0m",
      "\u001b[1;31mNameError\u001b[0m                                 Traceback (most recent call last)",
      "Cell \u001b[1;32mIn[10], line 1\u001b[0m\n\u001b[1;32m----> 1\u001b[0m \u001b[38;5;28;01mif\u001b[39;00m \u001b[43mresult\u001b[49m:\n\u001b[0;32m      2\u001b[0m     code \u001b[38;5;241m=\u001b[39m result[\u001b[38;5;124m'\u001b[39m\u001b[38;5;124mcode\u001b[39m\u001b[38;5;124m'\u001b[39m]\n\u001b[0;32m      3\u001b[0m     browser\u001b[38;5;241m.\u001b[39mexecute_script(\u001b[38;5;124m\"\u001b[39m\u001b[38;5;124mdocument.querySelector(\u001b[39m\u001b[38;5;124m\"\u001b[39m \u001b[38;5;241m+\u001b[39m \u001b[38;5;124m\"\u001b[39m\u001b[38;5;124m'\u001b[39m\u001b[38;5;124m\"\u001b[39m \u001b[38;5;241m+\u001b[39m \u001b[38;5;124m'\u001b[39m\u001b[38;5;124m[name=\u001b[39m\u001b[38;5;124m\"\u001b[39m\u001b[38;5;124mh-captcha-response\u001b[39m\u001b[38;5;124m\"\u001b[39m\u001b[38;5;124m]\u001b[39m\u001b[38;5;124m'\u001b[39m \u001b[38;5;241m+\u001b[39m \u001b[38;5;124m\"\u001b[39m\u001b[38;5;124m'\u001b[39m\u001b[38;5;124m\"\u001b[39m \u001b[38;5;241m+\u001b[39m \u001b[38;5;124m\"\u001b[39m\u001b[38;5;124m).innerHTML = \u001b[39m\u001b[38;5;124m\"\u001b[39m \u001b[38;5;241m+\u001b[39m \u001b[38;5;124m\"\u001b[39m\u001b[38;5;124m'\u001b[39m\u001b[38;5;124m\"\u001b[39m \u001b[38;5;241m+\u001b[39m code \u001b[38;5;241m+\u001b[39m \u001b[38;5;124m\"\u001b[39m\u001b[38;5;124m'\u001b[39m\u001b[38;5;124m\"\u001b[39m)\n",
      "\u001b[1;31mNameError\u001b[0m: name 'result' is not defined"
     ]
    }
   ],
   "source": [
    "if result:\n",
    "    code = result['code']\n",
    "    browser.execute_script(\"document.querySelector(\" + \"'\" + '[name=\"h-captcha-response\"]' + \"'\" + \").innerHTML = \" + \"'\" + code + \"'\")\n",
    "    # browser.find_element(\n",
    "    #     By.CSS_SELECTOR, \"#root > div > main > div > section > form > button._2iYm2u0v9LWjjsuiyfKsv4._1z3RdCK9ek3YQYwshGZNjf._3zBeuZ3zVV-s2YdppESngy._28oc7jlCOdc1KAtktSUZvQ\").click()"
   ]
  },
  {
   "cell_type": "code",
   "execution_count": null,
   "id": "eb575eaa-6c53-44fe-9b14-320cbc836fb5",
   "metadata": {},
   "outputs": [],
   "source": []
  }
 ],
 "metadata": {
  "kernelspec": {
   "display_name": "Python 3 (ipykernel)",
   "language": "python",
   "name": "python3"
  },
  "language_info": {
   "codemirror_mode": {
    "name": "ipython",
    "version": 3
   },
   "file_extension": ".py",
   "mimetype": "text/x-python",
   "name": "python",
   "nbconvert_exporter": "python",
   "pygments_lexer": "ipython3",
   "version": "3.11.5"
  }
 },
 "nbformat": 4,
 "nbformat_minor": 5
}
